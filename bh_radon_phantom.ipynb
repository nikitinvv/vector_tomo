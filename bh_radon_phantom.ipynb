{
 "cells": [
  {
   "cell_type": "code",
   "execution_count": null,
   "metadata": {},
   "outputs": [],
   "source": [
    "import cupy as cp\n",
    "import matplotlib.pyplot as plt\n",
    "from functions import R,RT,mshow_complex,mshow\n",
    "from phantom import *"
   ]
  },
  {
   "cell_type": "markdown",
   "metadata": {},
   "source": [
    "# Generate phantom (Doga)"
   ]
  },
  {
   "cell_type": "code",
   "execution_count": null,
   "metadata": {},
   "outputs": [],
   "source": [
    "#####################################################\n",
    "# Create a test 3D vector field \n",
    "#####################################################\n",
    "\n",
    "scale = 1\n",
    "shape = (scale*64, scale*64, scale*64)\n",
    "centers = np.array([\n",
    "    (scale*32, scale*32, scale*32),  # Center of first circle\n",
    "    (scale*24, scale*36, scale*32),  # Center of second circle\n",
    "    (scale*42, scale*24, scale*32),  # Center of third circle\n",
    "])\n",
    "radii = np.array([\n",
    "    scale*24,  # Radius of first circle\n",
    "    scale*10,  # Radius of second circle\n",
    "    scale*6,   # Radius of third circle\n",
    "]) \n",
    "domains = np.array([\n",
    "    (np.pi/6, np.pi/2),        # X direction\n",
    "    (np.pi/6, -np.pi/2),  # Y direction  \n",
    "    (np.pi/6, -np.pi/2),  # Z direction  \n",
    "])\n",
    "\n",
    "# Create the phantom\n",
    "field, mask = create_vector_field_phantom_3d(\n",
    "    shape, centers, radii, domain_angles=domains, transition_width=scale*0.0)\n",
    "\n",
    "print (field.shape)\n",
    "\n",
    "plt.quiver(field[:, :, 32, 0], field[:, :, 32, 1])\n",
    "plt.show()  \n",
    "plt.quiver(field[:, 32, :, 0], field[:,  32, :, 1])\n",
    "plt.show()  \n",
    "plt.quiver(field[25, :, :, 0], field[25,:, :, 1])\n",
    "plt.show()  \n"
   ]
  },
  {
   "cell_type": "code",
   "execution_count": null,
   "metadata": {},
   "outputs": [],
   "source": [
    "w = cp.array(field)"
   ]
  },
  {
   "cell_type": "markdown",
   "metadata": {},
   "source": [
    "## Tomography parameters"
   ]
  },
  {
   "cell_type": "code",
   "execution_count": null,
   "metadata": {},
   "outputs": [],
   "source": [
    "theta = cp.linspace(0,cp.pi,60,endpoint=True).astype('float32')\n",
    "rotation_axis = w.shape[1]/2\n",
    "w_shape = w.shape\n",
    "data_shape = [w.shape[0],len(theta),w.shape[2]]\n"
   ]
  },
  {
   "cell_type": "markdown",
   "metadata": {},
   "source": [
    "## Find mask"
   ]
  },
  {
   "cell_type": "code",
   "execution_count": null,
   "metadata": {},
   "outputs": [],
   "source": [
    "mask = cp.array(mask)[...,cp.newaxis] # already given \n",
    "mshow(mask[w_shape[0]//2,...,0],True)\n",
    "# w_abs = np.linalg.norm(w,axis=-1)\n",
    "# mshow(w_abs[w_shape[0]//2],True)\n",
    "\n",
    "# mask = (w_abs>0).astype('float32')[...,cp.newaxis]\n"
   ]
  },
  {
   "cell_type": "markdown",
   "metadata": {},
   "source": [
    "# Make operators"
   ]
  },
  {
   "cell_type": "markdown",
   "metadata": {},
   "source": [
    "### $P_\\theta(w) = \\mathcal{R}_\\theta (w_x) \\cos\\theta + \\mathcal{R}_\\theta (w_y) \\sin\\theta$"
   ]
  },
  {
   "cell_type": "code",
   "execution_count": null,
   "metadata": {},
   "outputs": [],
   "source": [
    "def P(w):\n",
    "    Rw = cp.zeros(data_shape,dtype='float32')\n",
    "    t = [-cp.cos(theta)[:,cp.newaxis],\n",
    "        -cp.sin(theta)[:,cp.newaxis],\n",
    "        0]###???    \n",
    "    for k in range(3):\n",
    "        Rw += t[k]*R(w[...,k].astype('complex64'),theta,rotation_axis).real\n",
    "    return Rw\n",
    "   \n",
    "def Padj(Rw):\n",
    "    t = [-cp.cos(theta)[:,cp.newaxis],\n",
    "        -cp.sin(theta)[:,cp.newaxis],\n",
    "        0]###???\n",
    "    w = cp.zeros(w_shape,dtype='float32')\n",
    "    for k in range(3):\n",
    "        w[...,k] = RT((Rw*t[k]).astype('complex64'),theta,rotation_axis).real\n",
    "    return w    "
   ]
  },
  {
   "cell_type": "code",
   "execution_count": null,
   "metadata": {},
   "outputs": [],
   "source": [
    "\n",
    "data=P(cp.array(field))\n",
    "mshow(field[field.shape[0]//2,...,0],True)\n",
    "mshow(field[field.shape[0]//2,...,1],True)\n",
    "mshow(data[data.shape[0]//2],True)"
   ]
  },
  {
   "cell_type": "markdown",
   "metadata": {},
   "source": [
    "# Adjoint test"
   ]
  },
  {
   "cell_type": "code",
   "execution_count": null,
   "metadata": {},
   "outputs": [],
   "source": [
    "a = cp.random.random(w_shape,dtype='float32')\n",
    "b = cp.random.random(data_shape,dtype='float32')\n",
    "bb = P(a)\n",
    "aa = Padj(b)\n",
    "print(cp.sum(aa*a))\n",
    "print(cp.sum(bb*b))"
   ]
  },
  {
   "cell_type": "markdown",
   "metadata": {},
   "source": [
    "# Data simulation"
   ]
  },
  {
   "cell_type": "code",
   "execution_count": null,
   "metadata": {},
   "outputs": [],
   "source": [
    "rotation_axis = data_shape[-1]//2\n",
    "data = P(w)\n",
    "mshow(data[data.shape[0]//2])\n",
    "mshow(data[:,data.shape[1]//2])"
   ]
  },
  {
   "cell_type": "markdown",
   "metadata": {},
   "source": [
    "### $F_1(w) = \\sum_\\theta\\|P_\\theta(M(w))-d_\\theta\\|_2^2$"
   ]
  },
  {
   "cell_type": "code",
   "execution_count": null,
   "metadata": {},
   "outputs": [],
   "source": [
    "\n",
    "def F1(w):\n",
    "    return cp.linalg.norm(P(mask*w)-data)**2\n",
    "\n",
    "def dF1(w,y):\n",
    "    return 2*cp.sum((P(mask*w)-data)*P(mask*y))\n",
    "\n",
    "def d2F1(w,y,z):\n",
    "    return 2*cp.sum(P(mask*y)*P(mask*y))\n",
    "\n",
    "def dF1adj(w,y):\n",
    "    return 2*mask*Padj(P(mask*w)-data)*y"
   ]
  },
  {
   "cell_type": "markdown",
   "metadata": {},
   "source": [
    "### Approximation test"
   ]
  },
  {
   "cell_type": "code",
   "execution_count": null,
   "metadata": {},
   "outputs": [],
   "source": [
    "w = cp.random.random(w_shape).astype('float32')\n",
    "dw0 = cp.random.random(w_shape).astype('float32')/10\n",
    "\n",
    "l = cp.linspace(0,0.1,20).astype('float32')\n",
    "err1 = np.zeros(20)\n",
    "err2 = np.zeros(20)\n",
    "err3 = np.zeros(20)\n",
    "for k in range(20):\n",
    "    dw = l[k]*dw0\n",
    "    a = F1(w+dw)\n",
    "    err1[k] = cp.linalg.norm(F1(w)-a)\n",
    "    err2[k] = cp.linalg.norm(F1(w)+dF1(w,dw)-a)    \n",
    "    err3[k] = cp.linalg.norm(F1(w)+dF1(w,dw)+0.5*d2F1(w,dw,dw)-a)\n",
    "plt.plot(err1,label='f')\n",
    "plt.plot(err2,label='linear')\n",
    "plt.plot(err3,label='quadr')\n",
    "plt.legend()\n",
    "plt.grid()\n",
    "# plt.yscale('log')\n",
    "plt.show()\n",
    "# ss"
   ]
  },
  {
   "cell_type": "markdown",
   "metadata": {},
   "source": [
    "### Adjoint test"
   ]
  },
  {
   "cell_type": "code",
   "execution_count": null,
   "metadata": {},
   "outputs": [],
   "source": [
    "w = cp.random.random(w_shape).astype('float32')\n",
    "dw = cp.random.random(w_shape).astype('float32')/10\n",
    "\n",
    "a = dF1(w,dw)\n",
    "b = dF1adj(w,a)\n",
    "\n",
    "print(cp.sum(a*a))\n",
    "print(cp.sum(dw*b))"
   ]
  },
  {
   "cell_type": "markdown",
   "metadata": {},
   "source": [
    "### $ F_{21}(w,v) = \\|M(w)\\cdot v\\|_2^2$"
   ]
  },
  {
   "cell_type": "code",
   "execution_count": null,
   "metadata": {},
   "outputs": [],
   "source": [
    "def F21(x):\n",
    "    w,v = x\n",
    "    w*=mask\n",
    "    wv = cp.sum(w*v,axis=-1)\n",
    "    return cp.linalg.norm(wv)**2\n",
    "\n",
    "def dF21(x,y):\n",
    "    w,v = x\n",
    "    dw,dv = y\n",
    "    w*=mask\n",
    "    dw*=mask\n",
    "    t1 = cp.sum(w*v,axis=-1)\n",
    "    t2 = cp.sum(dw*v,axis=-1)+cp.sum(w*dv,axis=-1)\n",
    "    return 2*cp.sum(t1*t2)\n",
    "\n",
    "def d2F21(x,y,z):\n",
    "    w,v = x\n",
    "    dw1,dv1 = y\n",
    "    dw2,dv2 = z\n",
    "    w*=mask\n",
    "    dw1*=mask\n",
    "    dw2*=mask\n",
    "    \n",
    "    wv = cp.sum(w*v,axis=-1)\n",
    "    dw1v2 = cp.sum(dw1*dv2,axis=-1)\n",
    "    dw2v1 = cp.sum(dw2*dv1,axis=-1)\n",
    "    t1 = cp.sum(wv*(dw1v2+dw2v1))\n",
    "\n",
    "    dw1v = cp.sum(dw1*v,axis=-1)\n",
    "    wdv1 = cp.sum(w*dv1,axis=-1)\n",
    "    dw2v = cp.sum(dw2*v,axis=-1)\n",
    "    wdv2 = cp.sum(w*dv2,axis=-1)\n",
    "    t2 = cp.sum((dw1v+wdv1)*(dw2v+wdv2))\n",
    "    return 2*(t1+t2)\n",
    "\n",
    "def dF21adj(x,y):\n",
    "    w,v = x\n",
    "    w*=mask\n",
    "    wv = cp.sum(w*v,axis=-1)*y\n",
    "    dw = 2*wv[...,cp.newaxis]*v\n",
    "    dv = 2*cp.sum(wv[...,cp.newaxis]*w,axis=(0,1,2))\n",
    "    dw*=mask\n",
    "    return [dw,dv]\n",
    "\n"
   ]
  },
  {
   "cell_type": "markdown",
   "metadata": {},
   "source": [
    "### Approximation test"
   ]
  },
  {
   "cell_type": "code",
   "execution_count": null,
   "metadata": {},
   "outputs": [],
   "source": [
    "w = cp.random.random(w_shape).astype('float32')\n",
    "dw0 = cp.random.random(w_shape).astype('float32')/10\n",
    "v = cp.random.random(3).astype('float32')\n",
    "dv0 = cp.random.random(3).astype('float32')/10\n",
    "\n",
    "l = cp.linspace(0,0.1,20).astype('float32')\n",
    "err1 = np.zeros(20)\n",
    "err2 = np.zeros(20)\n",
    "err3 = np.zeros(20)\n",
    "for k in range(20):\n",
    "    dw = l[k]*dw0\n",
    "    dv = l[k]*dv0\n",
    "    a = F21([w+dw,v+dv])\n",
    "    #print(cp.linalg.norm(dF21([w,v],[dw,0*dv])),cp.linalg.norm(dF21([w,v],[0*dw,dv])))\n",
    "    err1[k] = cp.linalg.norm(F21([w,v])-a)\n",
    "    err2[k] = cp.linalg.norm(F21([w,v])-dF21([w,v],[dw,dv])-a)    \n",
    "    err3[k] = cp.linalg.norm(F21([w,v])+dF21([w,v],[dw,dv])+0.5*d2F21([w,v],[dw,dv],[dw,dv])-a)\n",
    "plt.plot(err1,label='f')\n",
    "plt.plot(err2,label='linear')\n",
    "plt.plot(err3,label='quadr')\n",
    "plt.grid()\n",
    "# plt.yscale('log')\n",
    "plt.show()"
   ]
  },
  {
   "cell_type": "markdown",
   "metadata": {},
   "source": [
    "### ADjoint test for the gradient"
   ]
  },
  {
   "cell_type": "code",
   "execution_count": null,
   "metadata": {},
   "outputs": [],
   "source": [
    "\n",
    "w = cp.random.random(w_shape).astype('float32')\n",
    "v = cp.random.random(3).astype('float32')\n",
    "dw = cp.random.random(w_shape).astype('float32')/4\n",
    "dv = cp.random.random(3).astype('float32')/4\n",
    "\n",
    "a = dF21([w,v],[dw,dv])\n",
    "b = dF21adj([w,v],a)\n",
    "\n",
    "print(cp.sum(a*a))\n",
    "print(cp.sum(dw*b[0])+cp.sum(dv*b[1]))"
   ]
  },
  {
   "cell_type": "markdown",
   "metadata": {},
   "source": [
    "### $F_{22}(\\phi) = [\\cos(\\phi_1) \\sin(\\phi_2), \\sin(\\phi_1) \\sin(\\phi_2), \\cos(\\phi_2)] $"
   ]
  },
  {
   "cell_type": "code",
   "execution_count": null,
   "metadata": {},
   "outputs": [],
   "source": [
    "def F22(x):\n",
    "    w,phi = x    \n",
    "    t1 = cp.cos(phi[0])*cp.sin(phi[1])\n",
    "    t2 = cp.sin(phi[0])*cp.sin(phi[1])\n",
    "    t3 = cp.cos(phi[1])    \n",
    "    return [w,cp.array([t1,t2,t3])]\n",
    "\n",
    "def dF22(x,y):\n",
    "    w,phi = x\n",
    "    dw,dphi = y\n",
    "    mat = cp.array(\n",
    "        [[-cp.sin(phi[0])*cp.sin(phi[1]),cp.cos(phi[0])*cp.sin(phi[1]), cp.array(0)],\n",
    "         [cp.cos(phi[0])*cp.cos(phi[1]),cp.sin(phi[0])*cp.cos(phi[1]),-cp.sin(phi[1])]])\n",
    "    t1 = mat[0,0]*dphi[0]+mat[1,0]*dphi[1]\n",
    "    t2 = mat[0,1]*dphi[0]+mat[1,1]*dphi[1]\n",
    "    t3 = mat[0,2]*dphi[0]+mat[1,2]*dphi[1]\n",
    "    return [dw,cp.array([t1,t2,t3])]\n",
    "\n",
    "def d2F22(x,y,z):\n",
    "    w,phi = x\n",
    "    dw1,dphi1 = y\n",
    "    dw2,dphi2 = z\n",
    "    \n",
    "    #d22 = cp.array([-cp.cos(phi[0])*cp.sin(phi[1]),-cp.sin(phi[0])*cp.sin(phi[1]),-cp.cos(phi[1])])\n",
    "    d11 = cp.array([-cp.cos(phi[0])*cp.sin(phi[1]),-cp.sin(phi[0])*cp.sin(phi[1]),cp.array(0)])\n",
    "    d22 = cp.array([-cp.cos(phi[0])*cp.sin(phi[1]),-cp.sin(phi[0])*cp.sin(phi[1]),-cp.cos(phi[1])])\n",
    "    d12 = cp.array([-cp.sin(phi[0])*cp.cos(phi[1]),cp.cos(phi[0])*cp.cos(phi[1]),cp.array(0)])\n",
    "    res =  (dphi1[0]*dphi2[0]*d11+\n",
    "            dphi1[1]*dphi2[1]*d22+\n",
    "            (dphi1[0]*dphi2[1]+dphi1[1]*dphi2[0])*d12)\n",
    "    return [0,res]\n",
    "  \n",
    "def dF22adj(x,y):\n",
    "    w,phi = x\n",
    "    dw,dv = y\n",
    "    \n",
    "    mat = cp.array(\n",
    "        [[-cp.sin(phi[0])*cp.sin(phi[1]),cp.cos(phi[0])*cp.sin(phi[1]), cp.array(0)],\n",
    "         [cp.cos(phi[0])*cp.cos(phi[1]),cp.sin(phi[0])*cp.cos(phi[1]),-cp.sin(phi[1])]])\n",
    "    dphi = cp.zeros([2],dtype='float32')\n",
    "    dphi[0] = mat[0,0]*dv[0] + mat[0,1]*dv[1] + mat[0,2]*dv[2]\n",
    "    dphi[1] = mat[1,0]*dv[0] + mat[1,1]*dv[1] + mat[1,2]*dv[2]\n",
    "    \n",
    "    return [dw,dphi]\n"
   ]
  },
  {
   "cell_type": "markdown",
   "metadata": {},
   "source": [
    "### Approximation test"
   ]
  },
  {
   "cell_type": "code",
   "execution_count": null,
   "metadata": {},
   "outputs": [],
   "source": [
    "  \n",
    "w = cp.random.random(w.shape).astype('float32')*mask\n",
    "dw0 = cp.random.random(w.shape).astype('float32')/10*mask\n",
    "v = cp.random.random(3).astype('float32')\n",
    "dv0 = cp.random.random(3).astype('float32')/10\n",
    "phi = cp.random.random(2).astype('float32')\n",
    "dphi0 = cp.random.random(2).astype('float32')/3\n",
    "\n",
    "l = cp.linspace(0,1,20).astype('float32')\n",
    "err1 = np.zeros(20)\n",
    "err2 = np.zeros(20)\n",
    "err3 = np.zeros(20)\n",
    "for k in range(20):\n",
    "    dphi = l[k]*dphi0\n",
    "    dw = 0*dw0\n",
    "    a = F22([w+dw,phi+dphi])    \n",
    "    a1 = F22([w,phi])    \n",
    "    err1[k] = cp.linalg.norm(a1[0]-a[0])**2+cp.linalg.norm(a1[1]-a[1])**2\n",
    "    a2 = dF22([w,phi],[dw,dphi])\n",
    "    err2[k] = cp.linalg.norm(a1[0]+a2[0]-a[0])**2+cp.linalg.norm(a1[1]+a2[1]-a[1])**2\n",
    "    a3 = d2F22([w,phi],[dw,dphi],[dw,dphi])\n",
    "    err3[k] = cp.linalg.norm(a1[0]+a2[0]+0.5*a3[0]-a[0])**2+cp.linalg.norm(a1[1]+a2[1]+0.5*a3[1]-a[1])**2    \n",
    "plt.plot(err1,label='f')\n",
    "plt.plot(err2,label='linear')\n",
    "plt.plot(err3,label='quadr')\n",
    "plt.legend()\n",
    "plt.grid()\n",
    "plt.yscale('log')\n",
    "plt.show()"
   ]
  },
  {
   "cell_type": "markdown",
   "metadata": {},
   "source": [
    "## Adjoint test for the gradient"
   ]
  },
  {
   "cell_type": "code",
   "execution_count": null,
   "metadata": {},
   "outputs": [],
   "source": [
    "w = cp.random.random(w_shape).astype('float32')\n",
    "phi = cp.random.random(2).astype('float32')\n",
    "dw = cp.random.random(w_shape).astype('float32')/4\n",
    "dphi = cp.random.random(2).astype('float32')/4\n",
    "\n",
    "a = dF22([w,phi],[dw,dphi])\n",
    "b = dF22adj([w,phi], a)\n",
    "\n",
    "print(cp.sum(a[0]*a[0])+cp.sum(a[1]*a[1]))\n",
    "print(cp.sum(dw*b[0])+cp.sum(dphi*b[1]))\n"
   ]
  },
  {
   "cell_type": "markdown",
   "metadata": {},
   "source": [
    "### $F_3(w,a) = \\|M(|w|-a)\\|_2^2$"
   ]
  },
  {
   "cell_type": "code",
   "execution_count": null,
   "metadata": {},
   "outputs": [],
   "source": [
    "def F3(x):\n",
    "    w,a = x\n",
    "    w_abs = cp.linalg.norm(w, axis=-1)\n",
    "    return cp.linalg.norm(mask[...,0]*(w_abs-a))**2\n",
    "\n",
    "def dF3(x,y):\n",
    "    w,a = x\n",
    "    dw,da = y\n",
    "    \n",
    "    w_abs = cp.linalg.norm(w, axis=-1)\n",
    "    n_one = w_abs*0+1\n",
    "    \n",
    "    t1 = 2*cp.sum((w-a*w/(w_abs[...,cp.newaxis]+1e-7))*dw*mask)\n",
    "    t2 = -2*cp.sum(w_abs*mask[...,0])*da\n",
    "    t3 = 2*a*da*cp.linalg.norm(n_one*mask[...,0])**2\n",
    "    return t1+t2+t3\n",
    "    \n",
    "def d2F3(x,y,z):\n",
    "    w,a = x\n",
    "    dw1,da1 = y\n",
    "    dw2,da2 = z\n",
    "\n",
    "    \n",
    "    w_abs = cp.linalg.norm(w, axis=-1)\n",
    "    n_one = w_abs*0+1\n",
    "    w_hat = w/(w_abs[...,cp.newaxis]+1e-7)\n",
    "\n",
    "    t1 = cp.linalg.norm(n_one*mask[...,0])**2*da1*da2\n",
    "    t2 = -cp.sum(w_hat*dw1*mask)*da2\n",
    "    t3 = -cp.sum(w_hat*dw2*mask)*da1\n",
    "    \n",
    "    dw1dw2 = cp.sum(dw1*dw2*mask,axis=-1)\n",
    "    t4 = cp.sum((1-a/(w_abs+1e-7))*dw1dw2*mask[...,0])\n",
    "\n",
    "    wdw1 = cp.sum(w_hat*dw1,axis=-1)\n",
    "    wdw2 = cp.sum(w_hat*dw2,axis=-1)\n",
    "\n",
    "    t5 = cp.sum(a/(w_abs+1e-7)*wdw1*wdw2*mask[...,0])\n",
    "\n",
    "    return 2*(t1+t2+t3+t4+t5)\n",
    "\n",
    "def dF3adj(x,y):\n",
    "    w,a = x\n",
    "    \n",
    "    w_abs = cp.linalg.norm(w, axis=-1)\n",
    "    n_one = w_abs*0+1\n",
    "    dw = 2*(w-a*w/(w_abs[...,cp.newaxis]+1e-7)) * mask * y\n",
    "    da = (-2*cp.sum(w_abs*mask[...,0]) + 2*a*cp.linalg.norm(n_one*mask[...,0])**2) * y\n",
    "\n",
    "    return [dw,da]    \n"
   ]
  },
  {
   "cell_type": "markdown",
   "metadata": {},
   "source": [
    "# Adjoin test"
   ]
  },
  {
   "cell_type": "code",
   "execution_count": null,
   "metadata": {},
   "outputs": [],
   "source": [
    "w = cp.random.random(w_shape).astype('float32')\n",
    "a = cp.random.random(1).astype('float32')\n",
    "dw = cp.random.random(w_shape).astype('float32')/4\n",
    "da = cp.random.random(1).astype('float32')/4\n",
    "\n",
    "t = dF3([w,a],[dw,da])\n",
    "tt = dF3adj([w,a], t)\n",
    "\n",
    "print(cp.sum(t*t))\n",
    "print(cp.sum(dw*tt[0])+cp.sum(da*tt[1]))\n",
    "\n",
    "# s"
   ]
  },
  {
   "cell_type": "markdown",
   "metadata": {},
   "source": [
    "# Approximation test"
   ]
  },
  {
   "cell_type": "code",
   "execution_count": null,
   "metadata": {},
   "outputs": [],
   "source": [
    "  \n",
    "w = cp.random.random(w.shape).astype('float32')\n",
    "dw0 = cp.random.random(w.shape).astype('float32')/10\n",
    "a = cp.random.random(1).astype('float32')\n",
    "da0 = cp.random.random(1).astype('float32')/10\n",
    "\n",
    "l = cp.linspace(0,1,20).astype('float32')\n",
    "err1 = np.zeros(20)\n",
    "err2 = np.zeros(20)\n",
    "err3 = np.zeros(20)\n",
    "for k in range(20):\n",
    "    dw = l[k]*dw0\n",
    "    da = l[k]*da0\n",
    "    t = F3([w+dw,a+da])    \n",
    "    t1 = F3([w,a])    \n",
    "    err1[k] = cp.linalg.norm(t1-t)**2\n",
    "    t2 = dF3([w,a],[dw,da])\n",
    "    err2[k] = cp.linalg.norm(t1+t2-t)**2\n",
    "    # print(cp.linalg.norm(dF3([w,v],[dw,0*da])),cp.linalg.norm(dF3([w,v],[0*dw,da])))\n",
    "    t3 = d2F3([w,a],[dw,da],[dw,da])\n",
    "    err3[k] = cp.linalg.norm(t1+t2+0.5*t3-t)**2\n",
    "plt.plot(err1,label='f')\n",
    "plt.plot(err2,label='linear')\n",
    "plt.plot(err3,label='quadr')\n",
    "plt.yscale('log')\n",
    "plt.legend()\n",
    "plt.grid()\n",
    "plt.show()\n"
   ]
  },
  {
   "cell_type": "markdown",
   "metadata": {},
   "source": [
    "## Gradients and hessians"
   ]
  },
  {
   "cell_type": "code",
   "execution_count": null,
   "metadata": {},
   "outputs": [],
   "source": [
    "def gradient(vars,lam,d):\n",
    "    w,phi,a = vars['w'],vars['phi'],vars['a']\n",
    "\n",
    "    # first term\n",
    "    gw = dF1adj(w,1)\n",
    "    \n",
    "    # second part\n",
    "    gw0,gphi = dF22adj([w,phi],dF21adj(F22([w,phi]),1))    \n",
    "\n",
    "    # gphi[1] = 0\n",
    "    \n",
    "    # third part \n",
    "    gw1,ga = dF3adj([w,a],1)\n",
    "        \n",
    "    # result\n",
    "    grads = {}\n",
    "    grads['w'] = gw + lam[0]*gw0 + lam[1]*gw1\n",
    "    grads['phi'] = lam[0]*gphi\n",
    "    grads['a'] = lam[1]*ga\n",
    "    return grads\n",
    "\n",
    "def hessian(vars,grads,etas,lam):\n",
    "    w,phi,a = vars['w'],vars['phi'],vars['a']\n",
    "    dw1,dphi1,da1 = grads['w'],grads['phi'],grads['a']\n",
    "    dw2,dphi2,da2 = etas['w'],etas['phi'],etas['a']\n",
    "\n",
    "    # first term\n",
    "    t1 = d2F1(w,dw1,dw2)\n",
    "    \n",
    "    # second term, cascade\n",
    "    x = [w,phi]\n",
    "    y = [dw1,dphi1]\n",
    "    z = [dw2,dphi2]    \n",
    "    t2 = d2F21(F22(x),dF22(x,y),dF22(x,z))+dF21(F22(x),d2F22(x,y,z))\n",
    "    \n",
    "    # third term\n",
    "    t3 = d2F3([w,a],[dw1,da1],[dw2,da2])\n",
    "    \n",
    "    return t1+lam[0]*t2+lam[1]*t3\n"
   ]
  },
  {
   "cell_type": "markdown",
   "metadata": {},
   "source": [
    "# debug functions"
   ]
  },
  {
   "cell_type": "code",
   "execution_count": null,
   "metadata": {},
   "outputs": [],
   "source": [
    "def calc_err(w,phi,a,lam):\n",
    "    return F1(w)+lam[0]*(F21(F22([w,phi])))+lam[1]*F3([w,a])\n",
    "\n",
    "def plot_debug(vars, etas, top, bottom, alpha, lam):\n",
    "    \"\"\"Checking second order approximation\"\"\"\n",
    "    w, phi,a = vars['w'],vars['phi'],vars['a']\n",
    "    weta, phieta, aeta = etas['w'],etas['phi'],etas['a']\n",
    "    npp = 9\n",
    "    errt = cp.zeros(npp * 2)\n",
    "    errt2 = cp.zeros(npp * 2)\n",
    "    for k in range(0, npp * 2):\n",
    "        wt = w + (alpha * k / (npp - 1)) * weta\n",
    "        phit = phi + (alpha * k / (npp - 1)) * phieta\n",
    "        at = a + (alpha * k / (npp - 1)) * aeta\n",
    "        errt[k] = calc_err(wt,phit,at,lam)\n",
    "        \n",
    "    t = alpha * (cp.arange(2 * npp)) / (npp - 1)\n",
    "    errt2 = calc_err(w,phi,a,lam)\n",
    "    errt2 = errt2 - top * t + 0.5 * bottom * t**2\n",
    "    \n",
    "    print(f'{phi=},{a=}')\n",
    "    plt.plot(t.get(),errt.get(),\".\",label=\"real\")\n",
    "    plt.plot(t.get(),errt2.get(),\".\",label=\"approx\")\n",
    "    plt.legend()\n",
    "    plt.grid()\n",
    "    plt.show()\n",
    "\n",
    "def mplot3(a):\n",
    "    fig, axs = plt.subplots(1, 3, figsize=(8,2))\n",
    "    for k in range(3):\n",
    "        im = axs[k].imshow(a[...,k].get(), cmap=\"gray\")\n",
    "        fig.colorbar(im, fraction=0.046, pad=0.04)\n",
    "    plt.show()\n",
    "\n",
    "def vis_debug(vars):\n",
    "    print(f'{vars['phi']=}')\n",
    "    print(f'{vars['a']=}')\n",
    "    # mshow_complex(vars['w'][:,:,w_shape[2]//2,0]+1j*vars['w'][:,:,w_shape[2]//2,1])\n",
    "    # mshow_complex(vars['w'][:,w_shape[1]//2,:,0]+1j*vars['w'][:,w_shape[1]//2,:,1])    \n",
    "    # mshow_complex(vars['w'][25,:,:,0]+1j*vars['w'][25,:,:,1])\n",
    "        \n",
    "    # mshow(np.linalg.norm(vars['w'][:,:,w.shape[2]//2],axis=-1),True)\n",
    "    # mshow(np.linalg.norm(vars['w'][:,w.shape[1]//2],axis=-1),True)\n",
    "    # mshow(np.linalg.norm(vars['w'][25],axis=-1),True)\n",
    "    mplot3(vars['w'][:,:,w_shape[2]//2])\n",
    "    mplot3(vars['w'][:,w_shape[1]//2])\n",
    "    mplot3(vars['w'][25])\n",
    "    mshow(np.linalg.norm(vars['w'][:,:,w.shape[2]//2],axis=-1),True)\n",
    "    mshow(np.linalg.norm(vars['w'][:,w.shape[1]//2],axis=-1),True)\n",
    "    mshow(np.linalg.norm(vars['w'][25],axis=-1),True)\n",
    "\n",
    "    fig= plt.figure(figsize=(4,4))\n",
    "    field = vars['w'].get()\n",
    "    plt.quiver(field[:, :, 32, 0], field[:, :, 32, 1])\n",
    "    plt.show()  \n",
    "    fig= plt.figure(figsize=(4,4))\n",
    "    plt.quiver(field[:, 32, :, 0], field[:,  32, :, 1])\n",
    "    plt.show()  \n",
    "    fig= plt.figure(figsize=(4,4))\n",
    "    plt.quiver(field[25, :, :, 0], field[25,:, :, 1])\n",
    "    plt.show()  \n",
    "\n"
   ]
  },
  {
   "cell_type": "markdown",
   "metadata": {},
   "source": [
    "# BH \n",
    "### $\\argmin_{w,\\varphi,a} \\|F_1(w)\\|_2^2+\\lambda_1\\|F_{21}(F_{22}(w,\\varphi))\\|_2^2+\\lambda_2\\|F_{3}(w,a)\\|_2^2   =\\sum_\\theta\\|P_\\theta(M(w))-d_\\theta\\|_2^2+\\lambda_1\\|M(w)\\cdot \\Theta(\\varphi_1,\\varphi_2)\\|_2^2+\\lambda_2\\|M(|w|-a)\\|_2^2$"
   ]
  },
  {
   "cell_type": "code",
   "execution_count": null,
   "metadata": {},
   "outputs": [],
   "source": [
    "def BH(vars, d, niter,lam):\n",
    "    err = cp.zeros(niter)\n",
    "    for i in range(niter):\n",
    "        \n",
    "        if i%64==0:\n",
    "            err[i] = calc_err(vars['w'],vars['phi'],vars['a'],lam)\n",
    "            print(i,f'err={err[i]}')\n",
    "        grads = gradient(vars,lam,d)\n",
    "        \n",
    "        if i == 0:\n",
    "            etas = {}\n",
    "            etas['w'] = -grads['w']\n",
    "            etas['phi'] = -grads['phi']\n",
    "            etas['a'] = -grads['a']\n",
    "        else:\n",
    "            top = hessian(vars,grads,etas,lam)\n",
    "            bottom = hessian(vars,etas,etas,lam)\n",
    "            beta = top / bottom\n",
    "            etas['w'] = etas['w'] * beta - grads['w']\n",
    "            etas['phi'] = etas['phi'] * beta - grads['phi']\n",
    "            etas['a'] = etas['a'] * beta - grads['a']            \n",
    "            \n",
    "        top = (-cp.sum(grads['w']*etas['w'])\n",
    "               -cp.sum(grads['phi']*etas['phi'])\n",
    "               -cp.sum(grads['a']*etas['a']))\n",
    "        bottom = hessian(vars, etas, etas, lam)\n",
    "        alpha = top / bottom\n",
    "        # print(alpha,top,bottom)\n",
    "        if i%128==0:\n",
    "            plot_debug(vars,etas,top,bottom,alpha,lam)\n",
    "        if i%128==0:\n",
    "            vis_debug(vars)\n",
    "\n",
    "        vars['w'] += alpha * etas['w']\n",
    "        vars['phi'] += alpha * etas['phi']\n",
    "        vars['a'] += alpha * etas['a']       \n",
    "    return vars,err\n"
   ]
  },
  {
   "cell_type": "code",
   "execution_count": null,
   "metadata": {},
   "outputs": [],
   "source": [
    "# initial guess\n",
    "# cp.random.seed()\n",
    "vars = {}\n",
    "vars['w'] = (cp.random.random(field.shape).astype('float32')-0.5)*2*mask# cp.array(field)*0#+1*mask\n",
    "vars['phi'] = cp.array([cp.pi/6+cp.pi/2,cp.pi/2],dtype='float32')\n",
    "vars['a'] = cp.float32(1)\n",
    "lam = [0.0001,0.1]\n",
    "niter = 102400\n",
    "vars,err2 = BH(vars,data,niter,lam)\n",
    "\n"
   ]
  },
  {
   "cell_type": "code",
   "execution_count": null,
   "metadata": {},
   "outputs": [],
   "source": [
    "mshow_complex(vars['w'][w_shape[0]//2,:,:,0]+1j*vars['w'][w_shape[0]//2,:,:,1])\n",
    "mshow_complex(vars['w'][:,:,w_shape[2]//2,0]+1j*vars['w'][:,:,w_shape[1]//2,1])\n",
    "mshow(np.linalg.norm(vars['w'][w.shape[0]//2],axis=-1),True)"
   ]
  },
  {
   "cell_type": "code",
   "execution_count": null,
   "metadata": {},
   "outputs": [],
   "source": [
    "pw = P(vars['w'])\n",
    "\n",
    "mshow(pw[:,0],True)\n",
    "# print(data.shape)\n",
    "mshow(data[:,0],True)\n",
    "# mshow(data[:,1],True)\n",
    "# mshow(data[32,:],True)"
   ]
  },
  {
   "cell_type": "code",
   "execution_count": null,
   "metadata": {},
   "outputs": [],
   "source": [
    "# # initial guess\n",
    "# vars = {}\n",
    "# vars['w'] = w*0\n",
    "# vars['phi'] = cp.array([1,1],dtype='float32')\n",
    "# vars['a'] = cp.float32(0)\n",
    "# lam = [0.0000,0.0]\n",
    "# niter = 1024\n",
    "# vars,err2 = BH(vars,data,niter,lam)\n",
    "\n",
    "# mshow_complex(vars['w'][w_shape[0]//2,:,:,0]+1j*vars['w'][w_shape[0]//2,:,:,1])\n",
    "# mshow_complex(vars['w'][:,w_shape[1]//2,:,0]+1j*vars['w'][:,w_shape[1]//2,:,1])\n",
    "# mshow(np.linalg.norm(vars['w'][w.shape[0]//2],axis=-1),True)"
   ]
  },
  {
   "cell_type": "code",
   "execution_count": null,
   "metadata": {},
   "outputs": [],
   "source": [
    "# vars['phi']"
   ]
  },
  {
   "cell_type": "code",
   "execution_count": null,
   "metadata": {},
   "outputs": [],
   "source": []
  }
 ],
 "metadata": {
  "kernelspec": {
   "display_name": "holotomocupy",
   "language": "python",
   "name": "python3"
  },
  "language_info": {
   "codemirror_mode": {
    "name": "ipython",
    "version": 3
   },
   "file_extension": ".py",
   "mimetype": "text/x-python",
   "name": "python",
   "nbconvert_exporter": "python",
   "pygments_lexer": "ipython3",
   "version": "3.12.8"
  }
 },
 "nbformat": 4,
 "nbformat_minor": 2
}
